{
 "cells": [
  {
   "cell_type": "markdown",
   "metadata": {},
   "source": [
    "# Class"
   ]
  },
  {
   "cell_type": "markdown",
   "metadata": {},
   "source": [
    "1. 수업에서 했던 사항을 복습해봅시다. \n",
    "* 아래의 요구 사항에 맞춰 `Account` 클래스와 `Client` 클래스를 만들어봅시다. \n",
    "* class `Account`\n",
    "    * Member variable: balance(int 형)\n",
    "    * Member function(method)\n",
    "        * `deposit(int amount)` : amount가 0보다 크거나 같으면 balance에 amount 추가 후 true, 그렇지 않을 경우 false return\n",
    "        * `withdraw(int amount)` : amount가 balance보다 크거나 같으면 balance만큼 amount 감소 후 true, 그렇지 않을 경우 false return\n",
    "* class `Client`\n",
    "    * Member variable: cash(int 형), account(Account 형)\n",
    "    * Member function(method)\n",
    "        * `deposit(int amount)` : amount가 가지고 있는 cash 보다 작거나 같고 0보다 클 경우 cash를 amount 만큼 감소시킨 후 account에 deposit 후 true, 그렇지 않을 경우 false return\n",
    "        * `withdraw(int amount)` : account에서 withdraw 성공 시 cash를 amount 만큼 증가시킨 후 true, 그렇지 않을 경우 false return \n",
    "* 수업시간에 함께 했기 때문에 따로 solution은 제공하지 않았습니다. "
   ]
  },
  {
   "cell_type": "code",
   "execution_count": 4,
   "metadata": {},
   "outputs": [],
   "source": [
    "# TODO\n",
    "\n",
    "\n",
    "\"\"\"\n",
    "# 이 부분을 client 밑에 indentation을 맞춰 집어넣어주세요. \n",
    "def printClient():\n",
    "    print(f\"Cash : {self.cash}, Balance: {account.balance}\")\n",
    "\"\"\"\n",
    "\n",
    "\n",
    "account = Account(50000)\n",
    "client = Client(30000, account)\n",
    "client.withdraw(60000) \n",
    "client.printClient()\n",
    "client.withdraw(30000)\n",
    "client.printClient()\n",
    "client.deposit(40000)\n",
    "client.printClient()\n",
    "client.deposit(20000)\n",
    "client.printClient()\n"
   ]
  },
  {
   "cell_type": "markdown",
   "metadata": {},
   "source": [
    "2. `Class` 객체와 `Student` 객체를 만들어봅시다. \n",
    "* class `Student`:\n",
    "    * member variable : `name`, `id`\n",
    "    * member method : \n",
    "        * constructor(`__init__(self, name)`): `name` 변수만 초기화 되도록 합니다. \n",
    "        * `setId(num)` : `num`을 input으로 받아 `self.id`에 assign 하고, `\"Student {name}'s ID set as {num}!\"` 메세지를 출력합니다. \n",
    "* class `Class`:\n",
    "    * member variable : `className`, `rollBook`, `quota`, `studentNum`\n",
    "    * member method:\n",
    "        * constructor(`__init__(self, className, quota)`: `className`과 `quota`의 경우 `input`을 받아 초기화하고, `rollBook`은 빈 리스트로, `studentNum`은 0으로 초기화합니다. \n",
    "        * `addMember(student)` : `student`를 `rollBook`에 추가하면서 `studentNum`을 1 증가시키고, `student.studentId`에 학생 추가 후의 studentNum 값을 assign해줍니다. \n",
    "            * 주의사항: 학생 추가 후 `studentNum`이 `quota`를 초과할 경우 학생을 추가하는 대신 `Adding {student.name} failed: Class full of students!` 메세지를 출력합니다. \n",
    "        * `addAll(studentList)` : `studentList`의 `student`들을 `rollBook`에 전부 추가해줍니다. 이 때 `studentNum`을 학생수만큼 증가시키고 각각의 학생들에게 `addMember`과 같은 방식으로 `studentId`를 지정해줍니다. \n",
    "            * 주의사항: 학생 추가 후 `studentNum`이 `quota`를 초과할 경우 학생을 추가하는 대신 `Adding {student.name} failed: Class full of students!` 메세지를 출력합니다.\n",
    "        * `printStudentList()`: studentId 순서대로 학생들을 출력합니다. (`\"Students: (1) subeen, (2) ...\"`)\n",
    "            * Hind: 출력 시 print(something, end = \"\")을 이용 시 줄바꿈이 일어나지 않습니다. \n",
    "        "
   ]
  },
  {
   "cell_type": "code",
   "execution_count": 15,
   "metadata": {},
   "outputs": [
    {
     "name": "stdout",
     "output_type": "stream",
     "text": [
      "Student 재우's ID set as 1!\n",
      "Student 다은's ID set as 2!\n",
      "Student 수민's ID set as 3!\n",
      "Student 수지's ID set as 4!\n",
      "Student 승원's ID set as 5!\n",
      "Student 경훈's ID set as 6!\n",
      "Student 채원's ID set as 7!\n",
      "Student 정민's ID set as 8!\n",
      "Student 소윤's ID set as 9!\n",
      "Student 유정's ID set as 10!\n",
      "Student 다인's ID set as 11!\n",
      "Student 경준's ID set as 12!\n",
      "Adding 수빈 failed: Class full of students!\n",
      "Students: (1) 재우, (2) 다은, (3) 수민, (4) 수지, (5) 승원, (6) 경훈, (7) 채원, (8) 정민, (9) 소윤, (10) 유정, (11) 다인, (12) 경준\n"
     ]
    }
   ],
   "source": [
    "class Student:\n",
    "    \n",
    "    def __init__(self, name):\n",
    "        self.name = name\n",
    "    \n",
    "    def setId(self, num):\n",
    "        self.id = num\n",
    "        print(f\"Student {self.name}'s ID set as {self.id}!\")\n",
    "        \n",
    "    \n",
    "class Class:\n",
    "    \n",
    "    def __init__(self, className, quota):\n",
    "        self.className = className\n",
    "        self.quota = quota\n",
    "        self.rollBook = []\n",
    "        self.studentNum = 0\n",
    "        \n",
    "    def add(self, student):\n",
    "        if (self.studentNum + 1 <= self.quota):\n",
    "            self.rollBook.append(student)\n",
    "            self.studentNum += 1\n",
    "            student.setId(self.studentNum)\n",
    "        else:\n",
    "            print(f\"Adding {student.name} failed: Class full of students!\")\n",
    "            \n",
    "    def addAll(self, studentList):\n",
    "        for student in studentList:\n",
    "            self.add(student)\n",
    "            \n",
    "    def printStudentList(self):\n",
    "        print(\"Students: \", end = \"\")\n",
    "        for i, student in enumerate(self.rollBook):\n",
    "            if (i != len(self.rollBook)-1):\n",
    "                print(f\"({student.id}) {student.name}\", end = \", \")\n",
    "            else:\n",
    "                print(f\"({student.id}) {student.name}\")\n",
    "            \n",
    "        \n",
    "onedayClass = Class(\"파이썬\", 12)\n",
    "onedayClass.add(Student(\"재우\"))\n",
    "studentList = [Student(\"다은\"), Student(\"수민\"), Student(\"수지\"), Student(\"승원\"),\n",
    "              Student(\"경훈\"), Student(\"채원\"), Student(\"정민\"), Student(\"소윤\"), \n",
    "               Student(\"유정\"), Student(\"다인\"), Student(\"경준\"), Student(\"수빈\")]\n",
    "onedayClass.addAll(studentList)\n",
    "onedayClass.printStudentList()"
   ]
  },
  {
   "cell_type": "code",
   "execution_count": null,
   "metadata": {},
   "outputs": [],
   "source": []
  }
 ],
 "metadata": {
  "kernelspec": {
   "display_name": "Python 3",
   "language": "python",
   "name": "python3"
  },
  "language_info": {
   "codemirror_mode": {
    "name": "ipython",
    "version": 3
   },
   "file_extension": ".py",
   "mimetype": "text/x-python",
   "name": "python",
   "nbconvert_exporter": "python",
   "pygments_lexer": "ipython3",
   "version": "3.8.5"
  }
 },
 "nbformat": 4,
 "nbformat_minor": 4
}
