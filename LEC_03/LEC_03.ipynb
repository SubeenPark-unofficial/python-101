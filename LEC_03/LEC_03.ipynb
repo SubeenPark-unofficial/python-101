{
 "cells": [
  {
   "cell_type": "code",
   "execution_count": null,
   "metadata": {},
   "outputs": [],
   "source": [
    "pip install pandas"
   ]
  },
  {
   "cell_type": "code",
   "execution_count": null,
   "metadata": {},
   "outputs": [],
   "source": [
    "pip install matplotlib"
   ]
  },
  {
   "cell_type": "markdown",
   "metadata": {},
   "source": [
    "# 5. 클래스(Class)"
   ]
  },
  {
   "cell_type": "markdown",
   "metadata": {},
   "source": [
    "* 클래스는 유사한 구조를 가지지만 값이 다양한 데이터들을 저장하고, 그 구조들 간의 상호작용을 나타내고 싶을 때 유용합니다. 예를 들어 한 반의 인적 사항들을 정리하고 싶을 때 name1, name2, ..., name31, id1, id2, ... id31과 같은 식으로 매 번 새로운 변수를 만들어 그 값을 저장한다면 관리가 매우 불편하지만, '학생'이라는 객체를 만든 후 각 학생 객체마다 다른 이름, 학번 등의 데이터를 저장할 수 있도록 한다면 훨씬 이해하기 쉽고 간결한 구조가 됩니다. 예제 코드를 통해 이해해봅시다. . "
   ]
  },
  {
   "cell_type": "code",
   "execution_count": null,
   "metadata": {},
   "outputs": [],
   "source": [
    "# student class\n",
    "class Student:\n",
    "    numStudents = 0\n",
    "    \n",
    "    # Constructor: 인스턴스 생성 시 자동으로 호출되는 함수\n",
    "    def __init__(self, name, grade, dept):\n",
    "        self.name = name\n",
    "        self.grade = grade\n",
    "        self.dept = dept\n",
    "        cls.numStudents = 0\n",
    "        \n",
    "    def printStudentInfo():\n",
    "        print(f\"name : {self.name}\\ngrade : {self.grade}\\ndept : {self.dept}\")\n",
    "        \n",
    "    def getTotalStudnetNumbers():\n",
    "        return numStudents\n",
    "        "
   ]
  },
  {
   "cell_type": "markdown",
   "metadata": {},
   "source": [
    "#### 클래스(Class)와 인스턴스(Instance)\n",
    "* 클래스와 인스턴스의 경우 처음에 이해하기 무척 어려운 개념이기 때문에 흔히 쿠키와 쿠키틀에 비유되곤 합니다. **클래스**의 경우 쿠키틀, 그리고 **인스턴스**의 경우 쿠키라는 것이죠. 쉽게 말해 클래스의 경우 비슷한 부류를 모아 해당 부류에 대해 어떤 값을 가지고, 어떤 동작을 수행해야 하는지 정의를 내려놓은 형태라면, 실제로 값을 가지고 동작을 수행하게 되는 것은 인스턴스입니다. 예를 들어 이름, 수강 정원 등의 변수를 가진 '수업'이라는 클래스가 있다면, 실제로 형성되는 객체는 죽과이(이름 = 죽과이, 정원 = 200), 인관심(이름 = 인관심, 정원 = 150)의 형태라는 것입니다. "
   ]
  },
  {
   "cell_type": "markdown",
   "metadata": {},
   "source": [
    "#### 속성(Attribute)과 메소드(Method)\n",
    "* 클래스 또는 인스턴스가 포함하는 데이터를 **속성(Attribute)** 이라고 하고, 수행 할 수 있는 동작을 **메소드(Method)**라고 합니다. \n",
    "* `Member Method/Member Variable`: 클래스의 속성과 메소드 중에서도 인스턴스마다 가지는 값, 혹은 인스턴스를 대상으로 무언가를 수행하는 함수를 각각 Member variable과 Member Mehthod이라고 합니다. \n",
    "* `Class Method/Class Variable`: 클래스의 속성과 메소드 중 클래스 자체에 속해 모든 인스턴스가 공유하는 속성과 기능을 Class Variable과 Class Method라고 합니다. "
   ]
  },
  {
   "cell_type": "markdown",
   "metadata": {},
   "source": [
    "#### 클래스와 클래스의 상호작용\n",
    "* 객체 지향 프로그래밍이 많이 사용되는 이유는 현실 상황을 표시하기에 굉장히 유리한 구조이기 때문입니다. 한 객체가 다른 객체의 멤버 변수가 될 수도, 다음 코드를 통해 이 말이 무엇을 뜻하는지 이해해봅시다. "
   ]
  },
  {
   "cell_type": "code",
   "execution_count": null,
   "metadata": {},
   "outputs": [],
   "source": [
    "class Vaccine:\n",
    "\n",
    "    def __init__(self, num, cure_rate):\n",
    "        self.num = num\n",
    "        self.cure_rate = cure_rate\n",
    "\n",
    "    def print(self):\n",
    "        vaccine_str = f\"백신 이름: 백신{self.num}\\n백신 치료율: {self.cure_rate * 100:.0f}%\\n\"\n",
    "        print(vaccine_str)\n",
    "\n",
    "\n",
    "class Country:\n",
    "\n",
    "    def __init__(self, name, population, infectee):\n",
    "        self.name = name\n",
    "        self.population = population\n",
    "        self.infectee = infectee\n",
    "        self.all_cured = False\n",
    "        self.all_infected = False\n",
    "\n",
    "    def print(self):\n",
    "        country_str = f\"감염 국가: {self.name}\\n인구수 : {self.population}명\\n감염 인구수 :{self.infectee}명\\n\"\n",
    "        print(country_str)\n",
    "\n",
    "    def cure(self, vaccine):\n",
    "        cured = 0\n",
    "        if not self.all_cured:\n",
    "            cured = int(self.infectee * vaccine.cure_rate)\n",
    "            self.infectee = max(0, self.infectee - cured)\n",
    "            self.all_cured = (self.infectee == 0)\n",
    "        return cured"
   ]
  },
  {
   "cell_type": "markdown",
   "metadata": {},
   "source": [
    "#### 연습!\n",
    "* 아래의 요구 사항에 맞춰 `Account` 클래스와 `Client` 클래스를 만들어봅시다. \n",
    "* class `Account`\n",
    "    * Member variable: balance(int 형), owner(Client 형)\n",
    "    * Member function(method)\n",
    "        * `deposit(int amount)` : amount가 0보다 크거나 같으면 balance에 amount 추가 후 true, 그렇지 않을 경우 false return\n",
    "        * `withdraw(int amount)` : amount가 balance보다 크거나 같으면 balance만큼 amount 감소 후 true, 그렇지 않을 경우 false return\n",
    "* class `Client`\n",
    "    * Member variable: cash(int 형), account(Account 형)\n",
    "    * Member function(method)\n",
    "        * `deposit(int amount)` : amount가 가지고 있는 cash 보다 작거나 같고 0보다 클 경우 cash를 amount 만큼 감소시킨 후 account에 deposit 후 true, 그렇지 않을 경우 false return\n",
    "        * `withdraw(int amount)` : account에서 withdraw 성공 시 cash를 amount 만큼 증가시킨 후 true, 그렇지 않을 경우 false return "
   ]
  },
  {
   "cell_type": "code",
   "execution_count": null,
   "metadata": {},
   "outputs": [],
   "source": [
    "# TODO : 같이 풀어볼테니 부담가지지 말고 시도해보세요!"
   ]
  },
  {
   "cell_type": "markdown",
   "metadata": {},
   "source": [
    "# 6. 패키지 맛보기"
   ]
  },
  {
   "cell_type": "markdown",
   "metadata": {},
   "source": [
    "* `모듈`은 연관된 데이터, 함수, 클래스를 모아놓은 파일이고, 이러한 모듈을 합쳐놓은 것이 바로 `패키지`입니다. \n",
    "* 파이썬의 위력은 패키지라고 해도 과언이 아닐만큼 파이썬은 다양한 이용자층의 필요에 의해 만들어진 여러 패키지를 지원합니다. 데이터 처리부터 웹사이트 개발까지 용도가 다양한데, 오늘은 데이터 처리를 위해 이용하는 `pandas`를 이용해 맛만 살짝 봅시다."
   ]
  },
  {
   "cell_type": "code",
   "execution_count": null,
   "metadata": {},
   "outputs": [],
   "source": [
    "# 같이해봅시다!\n",
    "import pandas as pd\n",
    "import matplotlib.pyplot as plt"
   ]
  },
  {
   "cell_type": "code",
   "execution_count": null,
   "metadata": {},
   "outputs": [],
   "source": [
    "data = pd.read_csv(\"weather.csv\")\n",
    "data = data.rename(columns = {\"ate\":\"Date\"})\n",
    "mean = data['temp'].mean()\n",
    "median = data['temp'].median()\n",
    "describe = data['temp'].describe\n",
    "data['temp'].plot(color = 'C4')\n",
    "plt.figure(figsize = (10, 6))\n",
    "plt.plot(data['Date'], data['temp'])\n",
    "plt.title(\"Temperature\")\n",
    "plt.xlabel(\"Index\")\n",
    "plt.ylabel(\"Celcius Degree\")\n",
    "plt.ylim(0, 30)"
   ]
  },
  {
   "cell_type": "code",
   "execution_count": null,
   "metadata": {},
   "outputs": [],
   "source": [
    "import random\n",
    "x = [i for i in range(1, 21)]\n",
    "y = [random.randint(0, 14) for i in range(20)]\n",
    "plt.bar(x, y) #hist/bar/plot/scatter\n"
   ]
  },
  {
   "cell_type": "markdown",
   "metadata": {},
   "source": [
    "# 7. 마무리\n",
    "이번 원데이 클래스의 경우 주어진 시간이 굉장히 적었기 때문에 제 수업은 비전공자 분들이 프로그래밍 툴을 쓰는 수업을 들을 때 파이썬이 장애물이 되지 것을 목표로 했습니다. 다만 심화된 연구를 진행하거나, 데이터 처리를 해야하는 이공계 분들의 경우에는 이 정도로는 아직 많이 부족할 수 있기 때문에 추가로 공부하면 큰 도움이 되는 프로그래밍 개념들, 그리고 책이나 사이트 등을 추천해드리고자 합니다. 이외에도 더 공부해보고싶은데 어디서부터 시작해야할지 감이 잘 안오는 분들이 있다면 개인적으로 연락 주시면 아는 한에서 답변해드리도록 하겠습니다. 우리 인생 화이팅!✨"
   ]
  },
  {
   "cell_type": "markdown",
   "metadata": {},
   "source": [
    "### 파이썬 책 추천\n",
    "개인적으로 프로그래밍 언어의 경우 굉장히 빨리 바뀌는 편이고, 기존에 사용하던 패키지가 지원되지 않는 경우도(deprecation이라고 합니다) 흔하고 새로 추가되는 패키지도 많기 때문에 이론적인 내용(자료구조, 알고리즘 등)을 제외하고는 책을 사서 공부하는 것을 추천드리지 않습니다. 다만 위키독스(https://wikidocs.net)에서 양질의 프로그래밍 관련 책들을 온라인으로 무료로 조회할 수 있으니, 관심 가는 분야가 있다면 위키독스에서부터 시작하시는 것도 나쁘지 않다고 말해드리고 싶네요! 그 중에서도 프로그래밍 입문자들에게 바이블처럼 여겨지는 책들은 아래와 같습니다. \n",
    "\n",
    "* `점프 투 파이썬`(https://wikidocs.net/book/1) : 파이썬을 공부하는 사람들은 모두 한 번쯤은 들어봤을법한 책입니다. 전반적인 큰 그림을 그릴 수 있기 때문에 쭉 한번 읽어보시고, 특히 객체 지향 프로그래밍에 대한 감을 잡아보시기를 추천드립니다. \n",
    "* `점프 투 장고(웹 개발)`(https://wikidocs.net/book/4223) : 앞으로 프로그래밍 또는 개발을 업으로 삼고 싶은 생각이 있으시다면 웹개발부터 시작해보시는 것도 나쁘지 않습니다. 장고의 경우 다루기 까다로운 부분이 크게 없으니 책을 쭉 따라가며 본인만의 프로젝트를 진행해보시면 실력이 빨리 늘 겁니다.\n",
    "* `공학자를 위한 Python(데이터 처리)`(https://wikidocs.net/15104) : 개인적으로 제가 연구실 인턴을 처음 했을 때 많이 참고했던 책입니다. NumPy, SciPy, Sci-kit Learn, Pandas, Matplotlib 패키지 정도는 자유자재로 다룰 수 있어야 데이터 처리와 시각화에 무리가 없으니 데이터 관련 일을 하고 싶은 분이라면 꼭 이 패키지들을 공부해보시는 걸 추천드립니다. \n",
    "\n",
    "이 외에 다른 언어를 공부해보시고 싶은 분이 있다면 Python->Java->C++->C 순으로 넘어가시는 것을 추천드리고, 이 언어들 정도만 다룰 줄 안다면 현업자들이 사용하는 언어의 90% 이상을 이해할 수 있다는 뜻이니 다른 파생 언어들은 하루~이틀이면 편하게 사용하실 수 있을겁니다. \n"
   ]
  },
  {
   "cell_type": "markdown",
   "metadata": {},
   "source": [
    "### 파이썬 사이트 추천\n",
    "* `Codecademy` : 글로 된 개념 설명 + 예제 연습의 반복으로 다양한 언어/기법을 가르쳐주는 무료 사이트입니다. 많은 사용자들에게 입증된 사이트이고, 연습 문제들도 꽤 양질이니 연습하기 막막하시다면 코드카데미를 이용해보시는 것도 괜찮습니다. 얼마 전까지는 파이썬2만 무료였는데 이제 파이썬3도 무료라고 하니 편하게 사용하실 수 있을 것 같네요.\n",
    "* `코딩도장` : 짧은 인강 + 실습의 구성으로 되어있는 사이트입니다. 코드카데미가 영어인데 반해 코딩도장의 경우 한국어라는 것이 장점입니다. 다만 설명에 사족이 많고, 조금 더 복잡한 언어들의 경우 종종 오개념이이나 혼선을 줄 수 있는 부분이 있어 개인적으로 선호하지는 않지만 프로그래밍 입문으로는 적절하다고 생각해 추천드립니다. 추가적으로 코딩도장의 경우 C언어에 대한 수업도 꽤 괜찮으니 관심있으신 분들은 들어보시면 좋을 것 같습니다. "
   ]
  },
  {
   "cell_type": "markdown",
   "metadata": {},
   "source": [
    "### 꼭 공부해야 하는 프로그래밍 지식\n",
    "* `객체 지향 프로그래밍` : 흔히 OOP라고 불리는 객체 지향 프로그래밍은 2010년대에 가장 보편적으로 사용되고 있는 프로그래밍의 방법론입니다. 현업에 있어서 필수적인 개념이고, 간단한 프로그램을 만들 때 현실을 보다 쉽게 모사하기 위해서는 꼭 필요한 지식이니 객체 지향 프로그래밍의 상속성, 다형성, 데이터 추상화 등에 대햐여 공부해보시기 바랍니다. \n",
    "* `Deep copy vs Shallow copy` : 파이썬의 리스트를 사용하면서 사람들이 가장 많이 실수하는 부분입니다. 보통 시행 착오를 겪으며 원인을 찾는 경우가 많기 때문에 적어도 존재와 개념 정도는 알고 계시는 것이 좋습니다. \n",
    "* `Mutable vs Immutable` : 딕셔너리 수업을 하며 언급만 하고 넘어갔는데, 자료형을 다루는 데에 있어서 굉장히 중요한 개념이니 꼭 공부해보시기 바랍니다. \n",
    "* `Call by Reference vs Call by Value` : 파이썬에서는 혼용하지만 파이썬 이외의 모든 언어에서 중요하게 다루는 개념입니다. deep copy vs shallow copy, mutalbe vs immutable, call by rerence vs call by value는 모두 연관되어있으면서도 초심자들이 간과하고 오류를 범하는 일이 잦은 부분이기 때문에 공부해두시는 것이 좋습니다. \n",
    "* 이외에 본인 코드가 보다 효율적이었으면 좋겠는 분은 `자료구조`와 `알고리즘`을 공부하시면 상황에 맞춰 체계적인 코드를 짤 수 있습니다. "
   ]
  },
  {
   "cell_type": "markdown",
   "metadata": {},
   "source": [
    "### 파이썬 패키지\n",
    "파이썬의 경우 워낙 다양한 분야에 적용되기 때문에 분야마다 어떤 패키지를 사용해야하는지를 아는 것 역시 중요한 요소입니다. 분야마다 다음과 같은 패키지로 공부를 시작해보시기를 추천드립니다.  \n",
    "#### 공통\n",
    "* `pandas` : 자유도가 높아진 엑셀이라고 생각하시면 될 것 같네요. 여러 데이터 가공 및 통계 처리를 지원해주기 때문에 모든 분야에 널리 적용됩니다. 오픈 소스 SPSS, SAS와 같은 느낌이므로 굉장히 유용합니다. \n",
    "* `matplotlib` : 각종 데이터를 시각화해주는 툴입니다. pandas와 시너지가 좋고, 통계학 실험에서도 사용하니 공부해놓으면 편합니다. matplotlib와 아주 유사하지만 오픈 소스여서 유저 층이 매우 두텁다는 장점이 있습니다. \n",
    "* `pickle` : 파일 입출력을 쉬워지게 해주는 툴입니다. 파이썬으로 파일을 건드리지 않는 경우는 거의 없으니 `file input/output`과 함께 공부하시면 좋습니다. \n",
    "* `os`, `sys` : 파이썬 프로그래밍으로 내 컴퓨터의 속성 또는 파일에 접근할 때 사용합니다. 응용이 목적인 경우 꼭 쓰실 줄 알아야 합니다. \n",
    "* 이외에도 `scipy`, `plotly` 정도는 알아두시는 것을 추천드립니다. \n",
    "\n",
    "#### 수치/데이터 사이언스\n",
    "* `sci-kit learn` : pandas보다 심화된 통계적 처리, 각종 공학적 연산(푸리에, 선형 대수 등) 등에 능하고 요즘 대세인 머신 러닝에도 많이 사용됩니다. 머신 러닝을 안하는 이공계 연구실이 거의 없으니 공부해보시는 것을 추천드립니다. \n",
    "* `numpy` : 방대한 양의 연산을 할 때 주로 사용되는 툴입니다. pandas 등의 패키지를 이용해 연산할 때보다 속도가 압도적으로 우월하기 때문에 제한적인 자원 하에서는 numpy를 무조건 쓰실 줄 알아야합니다. \n",
    "* `seaborn` : matplotlib보다 조금 더 최적화된 데이터 시각화를 뒷받침합니다. 더 다양한 차트 유형을 지원하니 한 번 쯤 사용해보시는 것도 좋습니다. \n",
    "\n",
    "#### 웹개발\n",
    "* `django`: 웹사이트의 뼈대를 만드는 툴입니다. 결과가 바로바로 가시적으로 보이기 때문에 프로그래밍에 재미 붙이기 좋습니다. \n",
    "\n",
    "#### 사회과학\n",
    "* `beautiful soup4` : 웹 크롤링(온라인 상의 포스트 등을 긁어 원하는 형태의 데이터로 가공하는 것)을 위한 툴입니다. 심리학, 언론정보학, 사회학 등에서 연구를 위해 자주 쓰이니 알아두시면 유용할 것 같네요.\n"
   ]
  }
 ],
 "metadata": {
  "kernelspec": {
   "display_name": "Python 3",
   "language": "python",
   "name": "python3"
  },
  "language_info": {
   "codemirror_mode": {
    "name": "ipython",
    "version": 3
   },
   "file_extension": ".py",
   "mimetype": "text/x-python",
   "name": "python",
   "nbconvert_exporter": "python",
   "pygments_lexer": "ipython3",
   "version": "3.8.5"
  }
 },
 "nbformat": 4,
 "nbformat_minor": 4
}
