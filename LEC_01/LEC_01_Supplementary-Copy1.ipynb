{
 "cells": [
  {
   "cell_type": "markdown",
   "metadata": {},
   "source": [
    "**오늘은 별 3개짜리 문제는 없습니다. 내일/내일모레 조건문/반복문/함수를 배우고 시도해봅시다!**"
   ]
  },
  {
   "cell_type": "markdown",
   "metadata": {},
   "source": [
    "# 1. String Method\n",
    "* 문자열 자료형에 적용 가능한 함수는 정!말! 많습니다. 모든 함수 목록은 아래 링크에서 확인해보실 수 있습니다. \n",
    "https://www.w3schools.com/python/python_ref_string.asp\n",
    "* 그 중 빈도수가 높은 함수들을 추려봤으니, 어떠한 상황에서 사용할 수 있는지 연습해봅시다!\n",
    "\n",
    "#### 함수 목록\n",
    "* `string.capitalize()` :첫 번째 글자를 대문자로 변환\n",
    "* `string.count(word)` : string에서 word의 등장 횟수\n",
    "* `string.find(word)` : word가 string에 포함될 경우 등장하는 첫 인덱스, 없을 경우 -1\n",
    "* `string.startswith(), string.endswith(word)` : string이 word로 시작하는지/끝나는지 확인\n",
    "* `string.isalpha()` : string이 모두 알파벳일 경우 True, 그렇지 않을 경우 False 반환\n",
    "* `string.isdigit()` : string이 모두 숫자일 경우 True, 그렇지 않을 경우 False 반환HOW TO USER UPPER/LOWER FUNCTION!\n",
    "how to user upper/lower function!\n",
    "* `string.isupper()/string.islower()`: string이 전부 대문자/소문자인지 판별\n",
    "* `string.replace(word1, word2)`: string에 등장하는 모든 word1을 word2로 대체\n",
    "* `string.join(iterable)`: iterable의 모든 원소를 string을 사이에 끼워서 합체(iterable이란 list, tuple과 같이 index를 통해 접근 가능한 자료형을 말함!)\n",
    "* `string.lstrip(), string.rstrip(), string.strip()`: 문자열의 좌측/우측/양옆 공백을 제거\n",
    "\n"
   ]
  },
  {
   "cell_type": "markdown",
   "metadata": {},
   "source": [
    "## 난이도⭐️: 각 함수의 사용법 확인해보기\n",
    "---"
   ]
  },
  {
   "cell_type": "markdown",
   "metadata": {},
   "source": [
    "1. `string.upper(), string.lower` : 변수 str1을 주어진 함수를 이용하여 아래와 같은 결과가 나올 수 있도록 코드의 TODO 부분을 채워주세요. \n",
    ">```\n",
    "HOW TO USER UPPER/LOWER FUNCTION!\n",
    "how to user upper/lower function!\n",
    "```"
   ]
  },
  {
   "cell_type": "code",
   "execution_count": 9,
   "metadata": {},
   "outputs": [
    {
     "name": "stdout",
     "output_type": "stream",
     "text": [
      "HOW TO USER UPPER/LOWER FUNCTION!\n",
      "how to user upper/lower function!\n"
     ]
    }
   ],
   "source": [
    "# 1\n",
    "str1 = \"How to user upper/lower function!\"\n",
    "\n",
    "#TODO\n",
    "\n",
    "\n",
    "print(str2)\n",
    "print(str3)"
   ]
  },
  {
   "cell_type": "markdown",
   "metadata": {},
   "source": [
    "2. `string.count(word)` : 변수 str1을 주어진 함수를 이용하여 아래와 같은 결과가 나올 수 있도록 코드의 TODO 부분을 채워주세요. \n",
    ">```\n",
    "단어 \"경찰청\"의 등장 횟수는 3회!\n",
    "단어 \"쇠창살\"의 등장 횟수는 2회!\n",
    "```"
   ]
  },
  {
   "cell_type": "code",
   "execution_count": 10,
   "metadata": {},
   "outputs": [
    {
     "name": "stdout",
     "output_type": "stream",
     "text": [
      "단어 \"경찰청\"의 등장 횟수는 3회!\n",
      "단어 \"쇠창살\"의 등장 횟수는 2회!\n"
     ]
    }
   ],
   "source": [
    "# 2\n",
    "str1 = \"\"\"경찰청 철창살은 외철창살이냐 쌍철창살이냐\n",
    "경찰청 철창살이 쇠철창살이냐 철철창살이냐\n",
    "검찰청 쇠철창살은 새쇠철창살이냐 헌쇠철창살이냐\n",
    "경찰청 쇠창살 외철창살, 검찰청 쇠창살 쌍철창살.\"\"\"\n",
    "\n",
    "#TODO\n",
    "\n",
    "\n",
    "print(f'단어 \"{word1}\"의 등장 횟수는 {count1}회!')\n",
    "print(f'단어 \"{word2}\"의 등장 횟수는 {count2}회!')"
   ]
  },
  {
   "cell_type": "markdown",
   "metadata": {},
   "source": [
    "3. `string.endswith(word)` : 변수 str1을 주어진 함수를 이용하여 아래와 같은 결과가 나올 수 있도록 코드의 TODO 부분을 채워주세요. \n",
    ">```\n",
    "파일 확장자가 '.txt'입니까? True\n",
    "```"
   ]
  },
  {
   "cell_type": "code",
   "execution_count": 14,
   "metadata": {},
   "outputs": [
    {
     "name": "stdout",
     "output_type": "stream",
     "text": [
      "파일 확장자가 '.txt'입니까? True\n"
     ]
    }
   ],
   "source": [
    "# 3\n",
    "str1 = \"FileExtensionIsTXT.txt\"\n",
    "\n",
    "#TODO\n",
    "\n",
    "\n",
    "print(f\"파일 확장자가 '.txt'입니까? {bool1}\")"
   ]
  },
  {
   "cell_type": "markdown",
   "metadata": {},
   "source": [
    "4. `string.replace(word1, word2)` : 변수 str1을 주어진 함수를 이용하여 아래와 같은 결과가 나올 수 있도록 코드의 TODO 부분을 채워주세요. \n",
    ">```\n",
    "<초코칩이 좋으면>\n",
    "안촉촉한 초코칩 나라에 살던 안촉촉한 초코칩이 촉촉한 초코칩 나라의 촉촉한 초코칩을 보고 촉촉한 초코칩이 되고 싶어서 촉촉한 초코칩 나라에 갔는데 촉촉한 초코칩 나라의 촉촉한 초코칩 문지기가 \"넌 촉촉한 초코칩이 아니고 안촉촉한 초코칩이니까 안촉촉한 초코칩나라에서 살아\"라고해서 안촉촉한 초코칩은 촉촉한 초코칩이 되는것을 포기하고 안촉촉한 초코칩 나라로 돌아갔다\n",
    "<초코칩 대신 화이트 초코칩>\n",
    "안촉촉한 화이트초코칩 나라에 살던 안촉촉한 화이트초코칩이 촉촉한 화이트초코칩 나라의 촉촉한 화이트초코칩을 보고 촉촉한 화이트초코칩이 되고 싶어서 촉촉한 화이트초코칩 나라에 갔는데 촉촉한 화이트초코칩 나라의 촉촉한 화이트초코칩 문지기가 \"넌 촉촉한 화이트초코칩이 아니고 안촉촉한 화이트초코칩이니까 안촉촉한 화이트초코칩나라에서 살아\"라고해서 안촉촉한 화이트초코칩은 촉촉한 화이트초코칩이 되는것을 포기하고 안촉촉한 화이트초코칩 나라로 돌아갔다\n",
    "```"
   ]
  },
  {
   "cell_type": "code",
   "execution_count": 21,
   "metadata": {},
   "outputs": [
    {
     "name": "stdout",
     "output_type": "stream",
     "text": [
      "<초코칩이 좋으면>\n",
      "안촉촉한 초코칩 나라에 살던 안촉촉한 초코칩이 촉촉한 초코칩 나라의 촉촉한 초코칩을 보고 촉촉한 초코칩이 되고 싶어서 촉촉한 초코칩 나라에 갔는데 촉촉한 초코칩 나라의 촉촉한 초코칩 문지기가 \"넌 촉촉한 초코칩이 아니고 안촉촉한 초코칩이니까 안촉촉한 초코칩나라에서 살아\"라고해서 안촉촉한 초코칩은 촉촉한 초코칩이 되는것을 포기하고 안촉촉한 초코칩 나라로 돌아갔다\n",
      "<초코칩 대신 화이트 초코칩>\n",
      "안촉촉한 화이트초코칩 나라에 살던 안촉촉한 화이트초코칩이 촉촉한 화이트초코칩 나라의 촉촉한 화이트초코칩을 보고 촉촉한 화이트초코칩이 되고 싶어서 촉촉한 화이트초코칩 나라에 갔는데 촉촉한 화이트초코칩 나라의 촉촉한 화이트초코칩 문지기가 \"넌 촉촉한 화이트초코칩이 아니고 안촉촉한 화이트초코칩이니까 안촉촉한 화이트초코칩나라에서 살아\"라고해서 안촉촉한 화이트초코칩은 촉촉한 화이트초코칩이 되는것을 포기하고 안촉촉한 화이트초코칩 나라로 돌아갔다\n"
     ]
    }
   ],
   "source": [
    "# 4\n",
    "str1 = \"\"\"안촉촉한 초코칩 나라에 살던 안촉촉한 초코칩이 촉촉한 초코칩 나라의 촉촉한 초코칩을 보고 촉촉한 초코칩이 되고 싶어서 촉촉한 초코칩 나라에 갔는데 촉촉한 초코칩 나라의 촉촉한 초코칩 문지기가 \"넌 촉촉한 초코칩이 아니고 안촉촉한 초코칩이니까 안촉촉한 초코칩나라에서 살아\"라고해서 안촉촉한 초코칩은 촉촉한 초코칩이 되는것을 포기하고 안촉촉한 초코칩 나라로 돌아갔다\"\"\"\n",
    "\n",
    "#TODO\n",
    "\n",
    "\n",
    "print(f\"<초코칩이 좋으면>\\n{str1}\")\n",
    "print(f\"<초코칩 대신 화이트 초코칩>\\n{str2}\")"
   ]
  },
  {
   "cell_type": "markdown",
   "metadata": {},
   "source": [
    "5. `string.rstrip(),string.lstrip(),string.strip()` : 변수 str1을 주어진 함수를 이용하여 아래와 같은 결과가 나올 수 있도록 코드의 TODO 부분을 채워주세요. \n",
    ">```\n",
    "좌측 공백 없이: [    공백이 너무 많아여]\n",
    "우측 공백 없이: [공백이 너무 많아여   ]\n",
    "좌우 공백 없이: [공백이 너무 많아여]\n",
    "```"
   ]
  },
  {
   "cell_type": "code",
   "execution_count": 20,
   "metadata": {},
   "outputs": [
    {
     "name": "stdout",
     "output_type": "stream",
     "text": [
      "좌측 공백 없이: [    공백이 너무 많아여]\n",
      "우측 공백 없이: [공백이 너무 많아여   ]\n",
      "좌우 공백 없이: [공백이 너무 많아여]\n"
     ]
    }
   ],
   "source": [
    "# 5\n",
    "str1 = \"    공백이 너무 많아여   \"\n",
    "\n",
    "#TODO\n",
    "\n",
    "\n",
    "print(f\"좌측 공백 없이: [{str2}]\")\n",
    "print(f\"우측 공백 없이: [{str3}]\")\n",
    "print(f\"좌우 공백 없이: [{str4}]\")"
   ]
  },
  {
   "cell_type": "markdown",
   "metadata": {},
   "source": [
    "6. `string.split(seperator)` : 변수 str1을 주어진 함수를 이용하여 아래와 같은 결과가 나올 수 있도록 코드의 TODO 부분을 채워주세요. \n",
    ">```\n",
    "['Python', 'Joa']\n",
    "```"
   ]
  },
  {
   "cell_type": "code",
   "execution_count": 22,
   "metadata": {},
   "outputs": [
    {
     "name": "stdout",
     "output_type": "stream",
     "text": [
      "['Python', 'Joa']\n"
     ]
    }
   ],
   "source": [
    "# 6\n",
    "str1 = \"Python Joa\"\n",
    "\n",
    "#TODO\n",
    "\n",
    "\n",
    "print(list1)"
   ]
  },
  {
   "cell_type": "markdown",
   "metadata": {},
   "source": [
    "7. `string.join(iterator)` : 변수 list1을 주어진 함수를 이용하여 아래와 같은 결과가 나올 수 있도록 코드의 TODO 부분을 채워주세요. \n",
    ">```\n",
    "Python MANI Joa\n",
    "```"
   ]
  },
  {
   "cell_type": "code",
   "execution_count": 23,
   "metadata": {},
   "outputs": [
    {
     "name": "stdout",
     "output_type": "stream",
     "text": [
      "Python MANI Joa\n"
     ]
    }
   ],
   "source": [
    "# 7\n",
    "list1 = ['Python', 'Joa']\n",
    "\n",
    "#TODO\n",
    "\n",
    "\n",
    "print(str1)"
   ]
  },
  {
   "cell_type": "markdown",
   "metadata": {},
   "source": [
    "## 난이도⭐️⭐️: 여러 함수 섞어서 해보기\n",
    "---"
   ]
  },
  {
   "cell_type": "markdown",
   "metadata": {},
   "source": [
    "8. 아래의 텍스트(`str1`)는 원문의 띄어쓰기가 모두 @로, 알파벳 i가 모두 !로 대치되어있습니다. str1의 원문을 찾을 수 있도록 코드의 TODO 부분을 채워주세요. \n",
    "> The@joy@of@cod!ng@Python@should@be@!n@see!ng@short,@conc!se,@readable@classes@that@express@a@lot@of@act!on@!n@a@small@amount@of@clear@code@--@not@!n@reams@of@tr!v!al@code@that@bores@the@reader@to@death."
   ]
  },
  {
   "cell_type": "code",
   "execution_count": 32,
   "metadata": {},
   "outputs": [
    {
     "name": "stdout",
     "output_type": "stream",
     "text": [
      "The joy of coding Python should be in seeing short, concise, readable classes that express a lot of action in a small amount of clear code -- not in reams of trivial code that bores the reader to death.\n"
     ]
    }
   ],
   "source": [
    "# 8\n",
    "str1 = \"The@joy@of@cod!ng@Python@should@be@!n@see!ng@short,@conc!se,@readable@classes@that@express@a@lot@of@act!on@!n@a@small@amount@of@clear@code@--@not@!n@reams@of@tr!v!al@code@that@bores@the@reader@to@death.\"\n",
    "\n",
    "#TODO\n",
    "\n",
    "\n",
    "print(str1)"
   ]
  },
  {
   "cell_type": "markdown",
   "metadata": {},
   "source": [
    "9. 8번을 `replace()` 함수를 이용해 수행했다면, 이번에는 동일한 동작을`split()` 함수와 `join()` 함수를 이용해서 수행해봅시다. "
   ]
  },
  {
   "cell_type": "code",
   "execution_count": 34,
   "metadata": {},
   "outputs": [
    {
     "name": "stdout",
     "output_type": "stream",
     "text": [
      "The joy of coding Python should be in seeing short, concise, readable classes that express a lot of action in a small amount of clear code -- not in reams of trivial code that bores the reader to death.\n"
     ]
    }
   ],
   "source": [
    "# 9\n",
    "str1 = \"The@joy@of@cod!ng@Python@should@be@!n@see!ng@short,@conc!se,@readable@classes@that@express@a@lot@of@act!on@!n@a@small@amount@of@clear@code@--@not@!n@reams@of@tr!v!al@code@that@bores@the@reader@to@death.\"\n",
    "\n",
    "#TODO\n",
    "\n",
    "\n",
    "print(str1)"
   ]
  },
  {
   "cell_type": "markdown",
   "metadata": {},
   "source": [
    "# 2. List Method\n",
    "* `len(list)` : 리스트의 전체 길이\n",
    "* `max(list)`, `min(list)` : 리스트 안에 있는 요소 중에서 최대값/최솟값 반환 (문자인 경우 알파벳 순서 기준)\n",
    "* `sum(list)` : 숫자형 자료형으로 구성된 리스트의 원소들의 전체 합 반환\n",
    "* `list(tuple)` : 튜플을 리스트 자료형으로 변환\n",
    "* `list.append(obj)` : 기존 리스트에 1개의 요소를 이어 붙이기\n",
    "* `list.extend(seq)` : 기존 리스트에 다른 리스트를 이어 붙이기\n",
    "* `list.count(obj)` : 리스트 안에 obj 가 몇 개 들어있는지 세어서 개수를 반환\n",
    "* `list.index(obj)` : 리스트에서 obj 요소 값이 있는 가장 작은 index 값 반환(없는 값 찾으면 에러 발생!)\n",
    "* `list.insert(index, obj` : 기존 리스트의 index 위치에 obj 값을 삽입\n",
    "* `list.pop()` : 기존 리스트에서 마지막 요소를 제거하고, 제거된 마지막 요소를 반환\n",
    "* `list.remove(obj)` : 기존 리스트에서 remove(obj) 메소드 안의 obj 객체를 제거\n",
    "* `list.reverse()` : 리스트의 객체를 리스트 안에서 순서를 반대로 뒤집기\n",
    "* `list.sort(reverse = True/False)` : 리스트의 객체를 리스트 안에서 순서대로 정렬하기 (디폴트 오름차순)\n",
    "* `list.sorted()` : 기존 리스트를 정렬하는 대신 정렬된 리스트를 반환\n"
   ]
  },
  {
   "cell_type": "markdown",
   "metadata": {},
   "source": [
    "## 난이도⭐️⭐️: 여러 함수 섞어서 해보기\n",
    "---\n",
    "*리스트의 경우 대부분 수업 시간에 함께 해보거나 예시로 보여드렸기 때문에 단순 적용은 생략했습니다.*\n",
    "[10-15] 튜플 `class_score`은 이번 학기 컴퓨터 프로그래밍 수업 수강생들의 기말고사 성적으로 이루어져 있습니다. list method들을 이용하여 이런 저런 통계치들을 구해봅시다!(Hint: 튜블은 수정이 불가능한 자료형입니다. 형변환을 먼저 한 후 진행해주세요!)\n",
    "\n",
    "+) 한 리스트를 계속해서 수정하는 형식이니 꼭 코드를 맞게 짠 후 다음 단계로 넘어가셔야 합니다!"
   ]
  },
  {
   "cell_type": "code",
   "execution_count": 21,
   "metadata": {},
   "outputs": [],
   "source": [
    "class_score = (90, 55, 1, 49, 7, 39, 49, 84, 28, 62, 67, 28, 51, 50, 77, 42, 66, 42, 7, 71, 82, 9, 30, 81, 73, 68, 64, 78, 44, 9, 57, 34, 79, 19, 90, 72, 93, 30, 42, 74, 53, 50, 60, 12, 88, 0, 0, 0, 82, 85, 38, 65, 44, 23, 71, 29, 47, 41, 14, 75, 87, 90, 52, 2, 3, 2, 18, 92, 0, 92, 32, 21, 37, 47, 100, 88, 37, 18, 63, 39, 50, 50, 75, 40, 89, 61, 62, 44, 25, 82, 53, 65, 68, 7, 46, 39, 69, 11, 33, 80, 52, 76, 75, 59, 10, 72, 87)"
   ]
  },
  {
   "cell_type": "markdown",
   "metadata": {},
   "source": [
    "10. 학생 3명의 점수가 누락되었다고 합니다. 누락된 점수는 `[50, 23, 37]`입니다. 세 명의 점수를 \"한번에\" 점수 목록에 추가해주세요.\n",
    "11. 드랍자 미포함을 위해 하위 3명의 점수는 무시하고자 합니다. 3명의 점수를 제거해주세요. \n",
    "12. `class_score`의 최고점/최저점은 몇점인가요?\n",
    "13. `class_score`의 중간값은 몇점인가요?(학생 수가 홀수라고 가정)\n",
    "14. `class_score`의 평균은 몇점인가요?\n",
    "15. A+을 주기 위해 상위 10%의 점수를 알고자 합니다. 다른 함수들과 list slicing을 이용해 상위 10%의 점수를 내림차순으로 정렬 후 리스트로 반환해주세요. (이 때 상위 10% 학생의 수는 버림으로 처리할 것)"
   ]
  },
  {
   "cell_type": "code",
   "execution_count": 23,
   "metadata": {},
   "outputs": [
    {
     "name": "stdout",
     "output_type": "stream",
     "text": [
      "Problem 10:  Correct!\n",
      "Problem 11:  Correct!\n",
      "Problem 12: max - 100, min - 0\n",
      "Problem 13: median - 50\n",
      "Problem 14: average - 51.21\n",
      "[100, 93, 92, 92, 90, 90, 90, 89, 88, 88]\n",
      "[100, 93, 92, 92, 90, 90, 90, 89, 88, 88]\n",
      "Problem 15:  Try Again!\n"
     ]
    }
   ],
   "source": [
    "#TODO: 수정 가능하도록 형변환: class_score_list에 결과를 저장해주세요!\n",
    "\n",
    "\n",
    "#TODO - 10: class_score_list를 수정해주세요!\n",
    "\n",
    "\n",
    "p10_ans = [90, 55, 1, 49, 7, 39, 49, 84, 28, 62, 67, 28, 51, 50, 77, 42, 66, 42, 7, 71, 82, 9, 30, 81, 73, 68, 64, 78, 44, 9, 57, 34, 79, 19, 90, 72, 93, 30, 42, 74, 53, 50, 60, 12, 88, 0, 0, 0, 82, 85, 38, 65, 44, 23, 71, 29, 47, 41, 14, 75, 87, 90, 52, 2, 3, 2, 18, 92, 0, 92, 32, 21, 37, 47, 100, 88, 37, 18, 63, 39, 50, 50, 75, 40, 89, 61, 62, 44, 25, 82, 53, 65, 68, 7, 46, 39, 69, 11, 33, 80, 52, 76, 75, 59, 10, 72, 87, 50, 23, 37]\n",
    "print(\"Problem 10: \", \"Correct!\" if (class_score_list == p10_ans) else \"Try Again!\")\n",
    "\n",
    "#TODO - 11: class_score_list에 저장해주세요!\n",
    "\n",
    "\n",
    "p11_ans = [0, 1, 2, 2, 3, 7, 7, 7, 9, 9, 10, 11, 12, 14, 18, 18, 19, 21, 23, 23, 25, 28, 28, 29, 30, 30, 32, 33, 34, 37, 37, 37, 38, 39, 39, 39, 40, 41, 42, 42, 42, 44, 44, 44, 46, 47, 47, 49, 49, 50, 50, 50, 50, 50, 51, 52, 52, 53, 53, 55, 57, 59, 60, 61, 62, 62, 63, 64, 65, 65, 66, 67, 68, 68, 69, 71, 71, 72, 72, 73, 74, 75, 75, 75, 76, 77, 78, 79, 80, 81, 82, 82, 82, 84, 85, 87, 87, 88, 88, 89, 90, 90, 90, 92, 92, 93, 100]\n",
    "print(\"Problem 11: \", \"Correct!\" if (class_score_list == p11_ans) else \"Try Again!\")\n",
    "\n",
    "#TODO - 12: maxi/mini에 저장해주세요!\n",
    "\n",
    "\n",
    "print(f\"Problem 12: max - {maxi}, min - {mini}\")\n",
    "\n",
    "#TODO - 13: median에 저장해주세요!\n",
    "\n",
    "\n",
    "print(f\"Problem 13: median - {median}\")\n",
    "\n",
    "#TODO - 14: avg에 저장해주세요!\n",
    "\n",
    "print(f\"Problem 14: average - {avg:.2f}\")\n",
    "\n",
    "#TODO - 15: top10에 저장해주세요!\n",
    "\n",
    "\n",
    "p15_ans = [100, 93, 92, 92, 90, 90, 90, 89, 88, 88]\n",
    "print(top10)\n",
    "print(p15_ans)\n",
    "print(\"Problem 15: \", \"Correct!\" if (class_score_list == p15_ans) else \"Try Again!\")\n"
   ]
  }
 ],
 "metadata": {
  "kernelspec": {
   "display_name": "Python 3",
   "language": "python",
   "name": "python3"
  },
  "language_info": {
   "codemirror_mode": {
    "name": "ipython",
    "version": 3
   },
   "file_extension": ".py",
   "mimetype": "text/x-python",
   "name": "python",
   "nbconvert_exporter": "python",
   "pygments_lexer": "ipython3",
   "version": "3.8.5"
  }
 },
 "nbformat": 4,
 "nbformat_minor": 4
}
