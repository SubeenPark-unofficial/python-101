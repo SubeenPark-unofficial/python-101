{
 "cells": [
  {
   "cell_type": "markdown",
   "metadata": {},
   "source": [
    "# 제어문\n",
    "## 난이도⭐️: If/While/For loop 함께 사용해보기\n",
    "---"
   ]
  },
  {
   "cell_type": "markdown",
   "metadata": {},
   "source": [
    "1. `while`문과 `if`문을 함께 사용하며 1부터 100까지 중 2또는 3의 배수이면서 6의 배수는 아닌 숫자들을 출력해봅시다."
   ]
  },
  {
   "cell_type": "code",
   "execution_count": 1,
   "metadata": {},
   "outputs": [],
   "source": [
    "# 1\n",
    "\n",
    "#TODO\n",
    "i = 0\n",
    "while (i<=100):\n",
    "    i = i + 1\n",
    "    if (i%2 == 0 or i%3 == 0) and not i%6 == 0:\n",
    "        print(i)        "
   ]
  },
  {
   "cell_type": "markdown",
   "metadata": {},
   "source": [
    "2.  `for`문과 `if`문을 함께 사용하며 1부터 100까지 중 2또는 3의 배수이면서 6의 배수는 아닌 숫자들을 출력해봅시다."
   ]
  },
  {
   "cell_type": "code",
   "execution_count": 2,
   "metadata": {},
   "outputs": [],
   "source": [
    "# 2\n",
    "\n",
    "#TODO\n",
    "for i in range(1, 101):\n",
    "    if (i%2 == 0 or i%3 == 0) and not i%6 == 0:\n",
    "        print(i)"
   ]
  },
  {
   "cell_type": "markdown",
   "metadata": {},
   "source": [
    "3.  `while`문과 `if`문을 함께 사용하며 72보다 작은 수 중에서 72의 약수를 출력해봅시다. "
   ]
  },
  {
   "cell_type": "code",
   "execution_count": 6,
   "metadata": {},
   "outputs": [],
   "source": [
    "# 3\n",
    "\n",
    "#TODO\n",
    "i = 1\n",
    "while i <= 72:\n",
    "    if (72%i == 0):\n",
    "        print(i)\n",
    "    i += 1"
   ]
  },
  {
   "cell_type": "markdown",
   "metadata": {},
   "source": [
    "4. `for`문과 `if`문을 함께 사용하며 84보다 작은 수 중에서 84의 약수를 출력해봅시다. "
   ]
  },
  {
   "cell_type": "code",
   "execution_count": 8,
   "metadata": {},
   "outputs": [],
   "source": [
    "# 4\n",
    "\n",
    "#TODO\n",
    "for i in range(1, 85):\n",
    "    if (84%i == 0):\n",
    "        print(i)\n"
   ]
  },
  {
   "cell_type": "markdown",
   "metadata": {},
   "source": [
    "5. `for`문을 이용하여 아래와 같이 출력해봅시다. \n",
    "```\n",
    "0\n",
    "00\n",
    "000\n",
    "0000\n",
    "00000\n",
    "```"
   ]
  },
  {
   "cell_type": "code",
   "execution_count": 18,
   "metadata": {},
   "outputs": [],
   "source": [
    "# 5\n",
    "\n",
    "#TODO\n",
    "for i in range(1, 6):\n",
    "    print(\"0\"*i)\n",
    "\n"
   ]
  },
  {
   "cell_type": "markdown",
   "metadata": {},
   "source": [
    "6. `for`문을 이용하여 작은 순서대로 3의 배수 6개를 담은 리스트를 만들어봅시다. "
   ]
  },
  {
   "cell_type": "code",
   "execution_count": 21,
   "metadata": {},
   "outputs": [
    {
     "name": "stdout",
     "output_type": "stream",
     "text": [
      "[]\n"
     ]
    }
   ],
   "source": [
    "# 6\n",
    "list1 = []\n",
    "\n",
    "#TODO\n",
    "for i in range(1, 6):\n",
    "    print(\"0\"*i)\n",
    "\n",
    "print(list1)"
   ]
  },
  {
   "cell_type": "markdown",
   "metadata": {},
   "source": [
    "7. `lst1 = [1, 2, 3, 4, 5]`일 때 list comprehension을 이용하여 `lst2 = [3, 5, 7, 9, 11]`을 만들어봅시다. "
   ]
  },
  {
   "cell_type": "code",
   "execution_count": 25,
   "metadata": {},
   "outputs": [
    {
     "name": "stdout",
     "output_type": "stream",
     "text": [
      "[3, 5, 7, 9, 11]\n"
     ]
    }
   ],
   "source": [
    "#7\n",
    "list1 = [1, 2, 3, 4, 5]\n",
    "\n",
    "#TODO\n",
    "list2 = [i*2 + 1 for i in list1]\n",
    "\n",
    "print(list2)"
   ]
  },
  {
   "cell_type": "markdown",
   "metadata": {},
   "source": [
    "8. `lst1 = [\"Speak\", \"Every\", \"Word\", \"Twice\",\"!\"]`일 때 `for`문을 이용하며 아래와 같은 딕셔너리를 생성해보자. \n",
    ">```\n",
    "dict1 = {\"Speak\":\"SpeakSpeak\", \"Every\":\"EveryEvery\", \"Word\":\"WordWord\", \"Twice\":\"TwiceTwice\",\"!\":\"!!\"}\n",
    "```"
   ]
  },
  {
   "cell_type": "code",
   "execution_count": 26,
   "metadata": {},
   "outputs": [
    {
     "name": "stdout",
     "output_type": "stream",
     "text": [
      "{'Speak': 'SpeakSpeak', 'Every': 'EveryEvery', 'Word': 'WordWord', 'Twice': 'TwiceTwice', '!': '!!'}\n"
     ]
    }
   ],
   "source": [
    "#8\n",
    "lst1 = [\"Speak\", \"Every\", \"Word\", \"Twice\",\"!\"]\n",
    "dict1 = {}\n",
    "\n",
    "#TODO\n",
    "for word in lst1:\n",
    "    dict1[word] = word*2\n",
    "\n",
    "print(dict1)"
   ]
  },
  {
   "cell_type": "markdown",
   "metadata": {},
   "source": [
    "## 난이도⭐️⭐️: 제어문 응용\n",
    "---"
   ]
  },
  {
   "cell_type": "markdown",
   "metadata": {},
   "source": [
    "9. `while`문과 `if`문을 함께 사용하며 1부터 100까지 중 2또는 3의 배수이면서 6의 배수는 아닌 숫자들을 출력해봅시다. 이 때, 마지막 줄을 제외하고는 한 줄에 10개의 숫자가 출력되도록 해봅시다.(Hint: `print(i, end = \" \")`을 이용하세요."
   ]
  },
  {
   "cell_type": "code",
   "execution_count": 27,
   "metadata": {},
   "outputs": [
    {
     "name": "stdout",
     "output_type": "stream",
     "text": [
      "2 3 4 8 9 10 14 15 16 20 \n",
      "21 22 26 27 28 32 33 34 38 39 \n",
      "40 44 45 46 50 51 52 56 57 58 \n",
      "62 63 64 68 69 70 74 75 76 80 \n",
      "81 82 86 87 88 92 93 94 98 99 \n",
      "100 "
     ]
    }
   ],
   "source": [
    "# 9\n",
    "\n",
    "#TODO\n",
    "i = 0\n",
    "lineCount = 0\n",
    "while (i<=100):\n",
    "    i = i + 1\n",
    "    if (i%2 == 0 or i%3 == 0) and not i%6 == 0:\n",
    "        print(i, end = \" \")\n",
    "        lineCount += 1\n",
    "    if lineCount == 10:\n",
    "        print()\n",
    "        lineCount = 0\n",
    "        \n",
    "        "
   ]
  },
  {
   "cell_type": "markdown",
   "metadata": {},
   "source": [
    "10. 피보나치 수열은 1, 1, 2, 3, 5, 8, 13, 21, 34, 55와 같이 직전 두 개의 값의 합이 해당 원소의 값이 되는 수열을 말합니다. 피보나치 서열의 첫 번째 항의 값을 1, 두 번째 항의 값을 1이라고 했을 때 `while`문과 `if-elif-else`문을 이용해 피보나치 수열의 10번째 항까지를 출력해봅시다.(Hint: 초기 변수를 두 개 선언해야 합니다!(항1과 항2))"
   ]
  },
  {
   "cell_type": "code",
   "execution_count": 29,
   "metadata": {},
   "outputs": [],
   "source": [
    "# 10\n",
    "a1 = 1\n",
    "a2 = 1\n",
    "\n",
    "#TODO\n",
    "cnt = 1\n",
    "while cnt <= 10:\n",
    "    if cnt == 1:\n",
    "        print(a1)\n",
    "    elif cnt == 2:\n",
    "        print(a2)\n",
    "    else:\n",
    "        print(a1 + a2)\n",
    "        temp = a2\n",
    "        a2 = a1 + a2\n",
    "        a1 = temp\n",
    "    \n",
    "    cnt += 1"
   ]
  },
  {
   "cell_type": "markdown",
   "metadata": {},
   "source": [
    "## 난이도⭐️⭐️⭐️: 함수 + 제어문\n",
    "---"
   ]
  },
  {
   "cell_type": "markdown",
   "metadata": {},
   "source": [
    "11. 정수형 변수 n을 intput으로 받아 크기가 n인 0으로 이루어진 다이아몬드를 출력하는 함수 `printStar(n)`을 만들어봅시다. 이 때 별은 가운데 정렬되어 있어야 하며, 나머지 공간은 \" \"으로 채워야합니다. 단, 이번에는 `string.center(length, fillerString)`문을 이용해봅시다.\n",
    "> 예시\n",
    "```\n",
    "printStar(3)\n",
    "     0\n",
    "    000\n",
    "     0\n",
    "```\n",
    "```\n",
    "printStar(5)\n",
    "      0\n",
    "     000\n",
    "    00000\n",
    "     000\n",
    "      0\n",
    "```"
   ]
  },
  {
   "cell_type": "code",
   "execution_count": 47,
   "metadata": {},
   "outputs": [],
   "source": [
    "# 11\n",
    "\n",
    "#TODO\n",
    "def printStar(n):\n",
    "    for i in range(n//2):\n",
    "        print(\" \"*(n//2-i) + \"0\"*(2*i+1))\n",
    "    print(\"0\"*n)\n",
    "    for i in range(n//2):\n",
    "        print(\" \"*(i+1) + \"0\"*(n-2*(i+1)))\n",
    "        \n",
    "printStar(3)\n",
    "printStar(7)"
   ]
  },
  {
   "cell_type": "markdown",
   "metadata": {},
   "source": [
    "12. 소수란 약수가 1과 자기 자신밖에 없는 수를 말합니다. 정수 n을 input으로 받아 자기 자신과 같거나 작은 소수의 리스트를 돌려주는 함수 `printNumber(n)`을 작성해봅시다. "
   ]
  },
  {
   "cell_type": "code",
   "execution_count": null,
   "metadata": {},
   "outputs": [],
   "source": [
    "# 12\n",
    "\n",
    "# TODO\n",
    "def printNumber(n):\n",
    "    primeList = []\n",
    "    for i in range(1, n+1):\n",
    "        count = 0\n",
    "        for j in range(1, i):\n",
    "            \n",
    "            "
   ]
  },
  {
   "cell_type": "markdown",
   "metadata": {},
   "source": [
    "13. 주어진 변수 `text`를 띄어쓰기 단위로 끊어 각 부분이 몇 번 나오는지 포함된 딕셔너리 wordCount를 만들어봅시다. \n",
    "ex. `text = 코로나 때문에 교환도 못가고 여행도 못가고 이게 뭐야!` --> `wordCount = {\"코로나\": 1, \"때문에\" : 1, \"교환도\" : 1, \"여행도\" : 1, \"못가고\": 2, \"이게\" : 1, \"뭐야!\" : 1}`"
   ]
  },
  {
   "cell_type": "code",
   "execution_count": 56,
   "metadata": {},
   "outputs": [],
   "source": [
    "# 13\n",
    "text = \"\"\"산 속 샘물로 세수하며 사는 삼심 삼살 샴쌍둥이 미세스 스미스씨와 미스터 심슨씨는 삼성 설립 사장의 회사 자산 상속자인 사촌의 사돈 김상속씨의 숫기있고 숭글숭글한 숫색시 삼성소속 식산업 종사자 김삼순씨를 만나서 삼성 수산물 운송수송 수색 실장에게 스위스에서 숫사슴을 샅샅이 수색했던 것을 인정받아 스위스 수산물 운송 수송 과정에서 상해 삭힌 냄새가 나는 수산물을 수색해내는 삼성 소속 수산물 운송수송 수색 사원이 되서 살신성인으로 쉴새없이 수색하다 산성수에 손이 산화되어 수술실에서 수술하게 됐는데 쉽사리 수술이 잘 안돼서 심신에 좋은 산삼을 달여 슈르릅 들이켰더니 힘이 샘솟아 다시 몸사려 수색하다 삼성 소속 식산업 종사자 김삼순씨와 셋이서 삼삼오오 삼월 삼십 삼일 세시 삼십 삼분 삼십 삼초에 쉰 세살 김식사씨네 시내 스시식당에 식사하러 가서 싱싱한 샥스핀 스시와 삼색샤시참치스시를 살사소스와 슥슥삭삭 샅샅이 비빈 것과 스위스산 소세지를 샤샤샥 쌀쓸어 입속에 쑤쎠넣어 살며시 삼키고 스산한 새벽 세시 삼십 삼분 삼십 삼초에 산림 숲속으로 사라졌다.\"\"\"\n",
    "wordCount = {}\n",
    "\n",
    "# TODO\n",
    "textSplit = text.split()\n",
    "for word in textSplit:\n",
    "    wordCount[word] = text.count(word)\n",
    "    \n",
    "print(wordCount)"
   ]
  }
 ],
 "metadata": {
  "kernelspec": {
   "display_name": "Python 3",
   "language": "python",
   "name": "python3"
  },
  "language_info": {
   "codemirror_mode": {
    "name": "ipython",
    "version": 3
   },
   "file_extension": ".py",
   "mimetype": "text/x-python",
   "name": "python",
   "nbconvert_exporter": "python",
   "pygments_lexer": "ipython3",
   "version": "3.8.5"
  }
 },
 "nbformat": 4,
 "nbformat_minor": 4
}
