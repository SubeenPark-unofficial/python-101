{
 "cells": [
  {
   "cell_type": "markdown",
   "metadata": {},
   "source": [
    "# 3. 제어문"
   ]
  },
  {
   "cell_type": "markdown",
   "metadata": {},
   "source": [
    "## 3.1 IF\n",
    "---\n",
    "* `if` 문은 주어진 초건의 참/거짓을 판별해 상황에 알맞는 동작을 수행하는 구문입니다. if문 작성의 문법은 아래와 같으며, else 부분의 경우 생략 역시 가능합니다. 예시를 통해 이해해봅시다. \n",
    "```\n",
    "if (statement):\n",
    "    (do someting)\n",
    "else:\n",
    "    (do something)\n",
    "```\n",
    "* 주의사항: python은 **indentation**을 굉장히 중요하게 생각하는 언어입니다. 제어문에 속하는 부분은 꼭 indedntation을 해주셔야합니다!"
   ]
  },
  {
   "cell_type": "code",
   "execution_count": 6,
   "metadata": {},
   "outputs": [
    {
     "name": "stdout",
     "output_type": "stream",
     "text": [
      "Buy ipad\n",
      "A\n"
     ]
    }
   ],
   "source": [
    "# only if block\n",
    "money = True\n",
    "if (money):\n",
    "    print(\"Buy ipad\")\n",
    "else:\n",
    "    print(\"No ipad\")\n",
    "\n",
    "# if/else\n",
    "score = 98\n",
    "grade = \"\"\n",
    "if (score >= 95):\n",
    "    grade = \"A\"\n",
    "else:\n",
    "    grade = \"B\"\n",
    "print(grade)"
   ]
  },
  {
   "cell_type": "markdown",
   "metadata": {},
   "source": [
    "* if 구문에서 아무런 동작도 하고 싶지 않을 경우에는 `pass` 사용"
   ]
  },
  {
   "cell_type": "code",
   "execution_count": 19,
   "metadata": {},
   "outputs": [],
   "source": [
    "absent = 3\n",
    "if (absent < 10):\n",
    "    pass\n",
    "else:\n",
    "    print(\"fail\")"
   ]
  },
  {
   "cell_type": "markdown",
   "metadata": {},
   "source": [
    "* `elif`: 따지고 싶은 경우의 수가 여러개일 경우 아래와 같은 구성도 가능합니다. "
   ]
  },
  {
   "cell_type": "code",
   "execution_count": 5,
   "metadata": {},
   "outputs": [
    {
     "name": "stdout",
     "output_type": "stream",
     "text": [
      "Oops! You failed the course due to the participation score!\n"
     ]
    }
   ],
   "source": [
    "# if/elif/else\n",
    "score = 95\n",
    "absent = 10\n",
    "if (score >= 95 and absent < 10):\n",
    "    print(\"Congratulations! You got an A grade\")\n",
    "elif (score >= 95):\n",
    "    print(\"Oops! You failed the course due to the participation score!\")\n",
    "else:\n",
    "    print(\"Sorry, your score was too lowTT\")"
   ]
  },
  {
   "cell_type": "markdown",
   "metadata": {},
   "source": [
    "* `x in list/tuple/string/dict`: iterable에서 자주 쓰이는 조건문"
   ]
  },
  {
   "cell_type": "code",
   "execution_count": 14,
   "metadata": {},
   "outputs": [
    {
     "name": "stdout",
     "output_type": "stream",
     "text": [
      "lst has 1\n",
      "line has line\n",
      "True\n",
      "There's no key1\n"
     ]
    }
   ],
   "source": [
    "# x in list\n",
    "lst = [1, 2, 3, 4]\n",
    "if (1 in lst):\n",
    "    print(\"lst has 1\")\n",
    "else:\n",
    "    print(\"There's no 1\")\n",
    "\n",
    "# x in string\n",
    "line = \"line with line\"\n",
    "if (\"line\" in line):\n",
    "    print(\"line has line\")\n",
    "if (\"e w\" in line):\n",
    "    print(\"True\")\n",
    "    \n",
    "# x in dictionary\n",
    "if (\"key2\" in {\"key1\":\"value1\"}):\n",
    "    print(\"key1\")\n",
    "else:\n",
    "    print(\"There's no key1\")"
   ]
  },
  {
   "cell_type": "markdown",
   "metadata": {},
   "source": [
    "* `[when true] if [statement] else [when false]`: 조건부 표현식(Conditional Expression)은 if-else 구분을 보다 간단하게 나타낸 형태입니다. "
   ]
  },
  {
   "cell_type": "code",
   "execution_count": 18,
   "metadata": {},
   "outputs": [
    {
     "name": "stdout",
     "output_type": "stream",
     "text": [
      "pass\n",
      "fail\n"
     ]
    }
   ],
   "source": [
    "score = 60\n",
    "message = \"pass\" if (score == 60) else \"fail\"\n",
    "print(message)\n",
    "print(\"pass\" if (score != 60) else \"fail\")"
   ]
  },
  {
   "cell_type": "markdown",
   "metadata": {},
   "source": [
    "### 연습!\n",
    "1. score 변수를 정의한 후 score 변수의 값이 90 이상이면 A, 80 이상이면 B, 70 이상이면 C, 60 이상이면 D, 그 밑은 F를 주는 `if - elif - else` 블록을 작성해봅시다. "
   ]
  },
  {
   "cell_type": "code",
   "execution_count": 20,
   "metadata": {},
   "outputs": [],
   "source": [
    "# TODO!"
   ]
  },
  {
   "cell_type": "markdown",
   "metadata": {},
   "source": [
    "2. 사용자로부터 console input을 받아 input이 전부 알파벳일 경우 `\"Right input!\"`을, 그렇지 않을 경우 `\"Wrong input, try again!\"`를 돌려주는 `if-else` 블록을 작성해봅시다.(Hint: 입력이 알파벳인지를 확인하기 위해서는 `string.isalpha()`를 사용하세요!)\"true\" if (0 == 0) else \"false\""
   ]
  },
  {
   "cell_type": "code",
   "execution_count": 20,
   "metadata": {},
   "outputs": [],
   "source": [
    "# TODO!"
   ]
  },
  {
   "cell_type": "markdown",
   "metadata": {},
   "source": [
    "## 3.2 WHILE\n",
    "---\n",
    "* `if-else` 문이 logic expression이 참/거짓인지에 따라 동작을 수행했다면, `while`문은 logic expression이 참인 동안 계속해서 블록 안의 동작을 수행합니다.(횟수 제한 X) `while`문의 구조는 아래와 같이 생겼으며, 예시를 통해 사용 방법을 확인해봅시다. \n",
    "```\n",
    "while [statement]:\n",
    "    do something1\n",
    "    do something2\n",
    "```"
   ]
  },
  {
   "cell_type": "code",
   "execution_count": 29,
   "metadata": {},
   "outputs": [
    {
     "name": "stdout",
     "output_type": "stream",
     "text": [
      "10 seconds left...\n",
      "9 seconds left...\n",
      "8 seconds left...\n",
      "7 seconds left...\n",
      "6 seconds left...\n",
      "5 seconds left...\n",
      "4 seconds left...\n",
      "3 seconds left...\n",
      "2 seconds left...\n",
      "1 seconds left...\n"
     ]
    }
   ],
   "source": [
    "# Countdown\n",
    "count = 10\n",
    "while count > 0:\n",
    "    print(f\"{count} seconds left...\")\n",
    "    count -= 1"
   ]
  },
  {
   "cell_type": "markdown",
   "metadata": {},
   "source": [
    "* `break`: 조건문의 결과값은 참이지만 그럼에도 불구하고 while 문을 빠져나가고 싶을 때가 있습니다. 그럴 경우 사용하는 게 바로 `break` 입니다. "
   ]
  },
  {
   "cell_type": "code",
   "execution_count": 28,
   "metadata": {},
   "outputs": [
    {
     "name": "stdout",
     "output_type": "stream",
     "text": [
      "Product sold! 2 left.\n",
      "Product sold! 1 left.\n",
      "Product sold! 0 left.\n"
     ]
    }
   ],
   "source": [
    "# break\n",
    "stock = 3\n",
    "revenue = 0\n",
    "price = 1000\n",
    "while revenue <=4000:\n",
    "    revenue += price\n",
    "    stock -= 1\n",
    "    print(f\"Product sold! {stock} left.\")\n",
    "    if (stock == 0):\n",
    "        break;"
   ]
  },
  {
   "cell_type": "markdown",
   "metadata": {},
   "source": [
    "* `continue`: while문을 빠져나가고 싶지는 않지만 이후의 동작을 수행하지 않고 다시 초기 조건을 검토하고 싶을 때 사용합니다. "
   ]
  },
  {
   "cell_type": "code",
   "execution_count": null,
   "metadata": {},
   "outputs": [],
   "source": [
    "# continue\n",
    "num = 0\n",
    "while num <= 10:\n",
    "    num += 1\n",
    "    if num%2 != 0:\n",
    "        continue;\n",
    "    print(num)"
   ]
  },
  {
   "cell_type": "markdown",
   "metadata": {},
   "source": [
    "### 연습!\n",
    "1. 어느 달의 1일이 월요일이라고 할때, 31일까지의 날들 중 월요일인 날에만 `f\"{day}일은 또 월요일입니다.\"`를 출력해봅시다. "
   ]
  },
  {
   "cell_type": "code",
   "execution_count": 20,
   "metadata": {},
   "outputs": [],
   "source": [
    "day = 1\n",
    "# TODO!"
   ]
  },
  {
   "cell_type": "markdown",
   "metadata": {},
   "source": [
    "2. 사용자로부터 들어온 console input이 empty string 인지를 확인하고, empty string일 경우 `\"Nothing entered, try again!\"` 문구를 출력 한 후 다시 입력을 받고, 그렇지 않을 경우 `\"Input accepted. You entered {user_input}.\"`을 출력하는 프로그램을 작성해봅시다.(Hint: string을 bool 자료형으로 type casting 할 경우 empty string인지의 여부를 확인할 수 있습니다.  "
   ]
  },
  {
   "cell_type": "code",
   "execution_count": 38,
   "metadata": {},
   "outputs": [
    {
     "name": "stdin",
     "output_type": "stream",
     "text": [
      "Enter something:  e\n"
     ]
    }
   ],
   "source": [
    "user_input = input(\"Enter something: \")\n",
    "# TODO!"
   ]
  },
  {
   "cell_type": "markdown",
   "metadata": {},
   "source": [
    "## 3.3 FOR\n",
    "---\n",
    "* `while`문이 정해진 조건을 충족시키는 동안 블록 내부의 명령을 계속해서 수행한다면, `for`문의 경우에는 **정해진 횟수**만큼 블록 내부의 명령을 수행합니다. "
   ]
  },
  {
   "cell_type": "markdown",
   "metadata": {},
   "source": [
    "* `for i in range(num)`: 주어진 동작을 n회 수행"
   ]
  },
  {
   "cell_type": "code",
   "execution_count": 43,
   "metadata": {},
   "outputs": [
    {
     "name": "stdout",
     "output_type": "stream",
     "text": [
      "0\n",
      "1\n",
      "2\n",
      "1\n",
      "2\n",
      "3\n",
      "1\n",
      "3\n",
      "5\n",
      "7\n",
      "9\n",
      "10\n",
      "7\n",
      "4\n"
     ]
    }
   ],
   "source": [
    "# range(num)\n",
    "for i in range(3):\n",
    "    print(i)\n",
    "\n",
    "# range(start_index, end_index)\n",
    "for i in range(1, 4):\n",
    "    print(i)\n",
    "    \n",
    "# range(start_index, end_index, jump)\n",
    "for i in range(1, 10, 2):\n",
    "    print(i)\n",
    "for i in range(10, 1, -3):\n",
    "    print(i)"
   ]
  },
  {
   "cell_type": "markdown",
   "metadata": {},
   "source": [
    "* `for-each` : iterable 형태의 자료형을 대상으로 사용할 수 있습니다. 주로 list, tuple의 원소를 선회할 때 씁니다. "
   ]
  },
  {
   "cell_type": "code",
   "execution_count": 8,
   "metadata": {},
   "outputs": [
    {
     "name": "stdout",
     "output_type": "stream",
     "text": [
      "Seoul, Busan, Daegu, Daejeon, Incheon\n",
      "전공1 : A+\n",
      "전공2 : A0\n",
      "전공3 : A-\n"
     ]
    }
   ],
   "source": [
    "# for-each\n",
    "loc = [\"Seoul, Busan, Daegu, Daejeon, Incheon\"]\n",
    "for city in loc:\n",
    "    print(city)\n",
    "score = {\"전공1\": \"A+\", \"전공2\": \"A0\", \"전공3\": \"A-\"}\n",
    "for subject in score:\n",
    "    print(f\"{subject} : {score[subject]}\")"
   ]
  },
  {
   "cell_type": "markdown",
   "metadata": {},
   "source": [
    "* `enumerate`: 인덱스와 원소를 모두 사용하고 싶을 때 씁니다. "
   ]
  },
  {
   "cell_type": "code",
   "execution_count": 9,
   "metadata": {},
   "outputs": [
    {
     "name": "stdout",
     "output_type": "stream",
     "text": [
      "student 1: 30\n",
      "student 2: 40\n",
      "student 3: 20\n",
      "student 4: 14\n"
     ]
    }
   ],
   "source": [
    "scores = [30, 40, 20, 14]\n",
    "for i, score in enumerate(scores):\n",
    "    print(f\"student {i+1}: {score}\")"
   ]
  },
  {
   "cell_type": "markdown",
   "metadata": {},
   "source": [
    "* list comprehension"
   ]
  },
  {
   "cell_type": "code",
   "execution_count": 12,
   "metadata": {},
   "outputs": [
    {
     "name": "stdout",
     "output_type": "stream",
     "text": [
      "[0, 1, 2, 3, 4, 5, 6, 7, 8, 9]\n",
      "[1, 3, 5]\n",
      "[0, 2, 4, 6, 8, 10, 12, 14, 16, 18]\n"
     ]
    }
   ],
   "source": [
    "x = [i for i in range(10)]\n",
    "print(x)\n",
    "\n",
    "y = [2*i+1 for i in range(3)]\n",
    "print(y)\n",
    "\n",
    "z = [2*x[i] for i in range(len(x))]\n",
    "print(z)"
   ]
  },
  {
   "cell_type": "markdown",
   "metadata": {},
   "source": [
    "* 이중 `for`문"
   ]
  },
  {
   "cell_type": "code",
   "execution_count": 17,
   "metadata": {},
   "outputs": [
    {
     "name": "stdout",
     "output_type": "stream",
     "text": [
      "i:  0, j:  0\n",
      "i:  0, j:  1\n",
      "i:  0, j:  2\n",
      "i:  0, j:  3\n",
      "i:  1, j:  0\n",
      "i:  1, j:  1\n",
      "i:  1, j:  2\n",
      "i:  1, j:  3\n",
      "i:  2, j:  0\n",
      "i:  2, j:  1\n",
      "i:  2, j:  2\n",
      "i:  2, j:  3\n"
     ]
    }
   ],
   "source": [
    "for i in range(3):\n",
    "    for j in range(4):\n",
    "        print (f\"i: {i:2d}, j: {j:2d}\")"
   ]
  },
  {
   "cell_type": "markdown",
   "metadata": {},
   "source": [
    "### 연습!\n",
    "1. `for` 문을 이중으로 사용하여 `{num1} X {num2} = {num3}` 형태의 구구단을 2단부터 9단까지 출력해봅시다. "
   ]
  },
  {
   "cell_type": "code",
   "execution_count": 18,
   "metadata": {},
   "outputs": [],
   "source": [
    "# TODO!"
   ]
  },
  {
   "cell_type": "markdown",
   "metadata": {},
   "source": [
    "2. (1) 1부터 31까지의 숫자 중 7로 나누어 떨어지는 숫자만 들어있는 list를 list comprehension을 이용해 만들어봅시다. (2) `for-each` 문을 사용하여 `\"{num1} % 7 == 0\"`을 출력해봅시다. "
   ]
  },
  {
   "cell_type": "code",
   "execution_count": 38,
   "metadata": {},
   "outputs": [
    {
     "name": "stdin",
     "output_type": "stream",
     "text": [
      "Enter something:  e\n"
     ]
    }
   ],
   "source": [
    "# TODO!"
   ]
  }
 ],
 "metadata": {
  "kernelspec": {
   "display_name": "Python 3",
   "language": "python",
   "name": "python3"
  },
  "language_info": {
   "codemirror_mode": {
    "name": "ipython",
    "version": 3
   },
   "file_extension": ".py",
   "mimetype": "text/x-python",
   "name": "python",
   "nbconvert_exporter": "python",
   "pygments_lexer": "ipython3",
   "version": "3.8.5"
  }
 },
 "nbformat": 4,
 "nbformat_minor": 4
}
